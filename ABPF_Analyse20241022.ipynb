{
 "cells": [
  {
   "cell_type": "code",
   "execution_count": null,
   "id": "a1c57c72-5c10-47ca-a275-0d1e3b0a21f2",
   "metadata": {},
   "outputs": [],
   "source": [
    "# Pour réaliser une analyse thématique, de contenu et sentimentale avec Python sur des entretiens en français transcrits\n",
    "# dans un fichier Excel contenant des variables quantitatives et qualitatives (comme Q1.1, Q1.2, etc.),\n",
    "# et croiser ces analyses avec des caractéristiques socio-démographiques, voici une méthode détaillée.\n",
    "# Étapes pour l'analyse :\n",
    "# Chargement des données (fichier Excel)\n",
    "# Nettoyage du texte pour chaque variable qualitative (questions Q1.1, Q1.2, etc.)\n",
    "# Analyse thématique et de contenu à partir de chaque réponse\n",
    "# Analyse des sentiments pour chaque variable qualitative\n",
    "# Croisement avec les caractéristiques socio-démographiques\n",
    "# Visualisation des résultats (graphiques de sentiments et autres)"
   ]
  },
  {
   "cell_type": "code",
   "execution_count": null,
   "id": "cbb1b22a-26ca-4cfc-916b-cf499da1cec1",
   "metadata": {},
   "outputs": [],
   "source": [
    "# 1. Installer les bibliothèques nécessaires\n",
    "pip install pandas \n",
    "pip install nltk \n",
    "pip install textblob \n",
    "pip install textblob-fr\n",
    "pip install matplotlib \n",
    "pip install seaborn"
   ]
  },
  {
   "cell_type": "code",
   "execution_count": null,
   "id": "1fb03ef8-8986-4cb7-91db-22dce7f182e8",
   "metadata": {},
   "outputs": [],
   "source": [
    "# Charger et explorer le fichier Excel avec pandas\n",
    "import pandas as pd\n",
    "# Charger le fichier Excel\n",
    "file_path = 'C:/Users/peprc/Downloads/Memoire CEFORP OdileTCHATCHABLOUCOU/INTERVIEWABPFCLEAN/extraction_variables_fichiers.xlsx'\n",
    "df = pd.read_excel(file_path)\n",
    "\n",
    "# Afficher les premières lignes pour vérifier le contenu\n",
    "print(df.head())\n",
    "# Afficher les colonnes pour s'assurer que les questions (Q1.1, Q1.2, etc.) sont bien présentes\n",
    "print(df.columns)\n",
    "\n",
    "# Sélectionner une colonne (par exemple, Q1.1)\n",
    "q1_1 = df['Q1.1']\n",
    "q1_2 = df['Q1.2']\n",
    "q2_18 = df['Q2.18']"
   ]
  },
  {
   "cell_type": "code",
   "execution_count": null,
   "id": "23c6be9b-e098-4bd8-ae77-16f0871aa31e",
   "metadata": {},
   "outputs": [],
   "source": [
    "# Nettoyage du texte avec NLTK\n",
    "import nltk\n",
    "from nltk.corpus import stopwords\n",
    "\n",
    "nltk.download('stopwords')\n",
    "stop_words = set(stopwords.words('french'))\n",
    "\n",
    "# Fonction pour nettoyer le texte\n",
    "def nettoyer_texte(texte):\n",
    "    tokens = nltk.word_tokenize(texte.lower())  # Convertir en minuscules et tokeniser\n",
    "    tokens_clean = [word for word in tokens if word.isalpha() and word not in stop_words]  # Supprimer stopwords et ponctuation\n",
    "    return ' '.join(tokens_clean)\n",
    "\n",
    "# Appliquer le nettoyage sur une variable (par exemple Q1.1)\n",
    "df['Q1.1_clean'] = df['Q1.1'].apply(lambda x: nettoyer_texte(str(x)))"
   ]
  },
  {
   "cell_type": "code",
   "execution_count": null,
   "id": "494458ab-384d-4c25-8e5f-1724fde8e15a",
   "metadata": {},
   "outputs": [],
   "source": [
    "# Analyse thématique (avec TF-IDF)\n",
    "from sklearn.feature_extraction.text import TfidfVectorizer\n",
    "\n",
    "# Utiliser TF-IDF pour représenter les réponses de Q1.1 sous forme de vecteurs\n",
    "tfidf_vectorizer = TfidfVectorizer()\n",
    "tfidf_matrix = tfidf_vectorizer.fit_transform(df['Q1.1_clean'])\n",
    "\n",
    "# Afficher les termes les plus fréquents pour comprendre les thèmes\n",
    "terms = tfidf_vectorizer.get_feature_names_out()\n",
    "tfidf_scores = tfidf_matrix.toarray()"
   ]
  },
  {
   "cell_type": "code",
   "execution_count": null,
   "id": "539ba013-064e-4c3b-b859-999068f5ecdc",
   "metadata": {},
   "outputs": [],
   "source": [
    "# Analyse thématique (Wordcloud)\n",
    "from wordcloud import WordCloud\n",
    "import matplotlib.pyplot as plt\n",
    "\n",
    "# Générer un nuage de mots pour la question Q1.1\n",
    "texte_q1_1 = ' '.join(df['Q1.1_nettoye'])\n",
    "\n",
    "wordcloud = WordCloud(width=800, height=400, background_color='white').generate(texte_q1_1)\n",
    "\n",
    "# Afficher le nuage de mots\n",
    "plt.figure(figsize=(10, 5))\n",
    "plt.imshow(wordcloud, interpolation='bilinear')\n",
    "plt.axis('off')\n",
    "plt.show()"
   ]
  },
  {
   "cell_type": "code",
   "execution_count": null,
   "id": "86bbb1ac-eb51-48b9-b490-d191a255875d",
   "metadata": {},
   "outputs": [],
   "source": [
    "# Analyse de contenu (Fréquence des mots)\n",
    "from collections import Counter\n",
    "\n",
    "# Fonction pour trouver les mots les plus fréquents\n",
    "def mots_frequents(texte, n=10):\n",
    "    mots = texte.split()\n",
    "    return Counter(mots).most_common(n)\n",
    "\n",
    "# Trouver les mots les plus fréquents pour la question Q1.1\n",
    "freq_q1_1 = mots_frequents(texte_q1_1)\n",
    "print(freq_q1_1)"
   ]
  },
  {
   "cell_type": "code",
   "execution_count": null,
   "id": "bd4af73f-8b13-40e7-abaa-0076ecf41153",
   "metadata": {},
   "outputs": [],
   "source": [
    "# Analyse des sentiments avec TextBlob\n",
    "from textblob import TextBlob\n",
    "from textblob_fr import PatternTagger, PatternAnalyzer\n",
    "\n",
    "# Fonction pour analyser le sentiment d'une réponse\n",
    "def analyse_sentiment(texte):\n",
    "    blob = TextBlob(texte, pos_tagger=PatternTagger(), analyzer=PatternAnalyzer())\n",
    "    return blob.sentiment[0]  # Retourne le score de sentiment\n",
    "\n",
    "# Appliquer l'analyse de sentiment à la variable Q1.1_clean\n",
    "df['Sentiment_Q1.1'] = df['Q1.1_clean'].apply(lambda x: analyse_sentiment(x))\n",
    "\n",
    "# Résumé des sentiments pour Q1.1\n",
    "print(df[['Q1.1', 'Sentiment_Q1.1']].head())"
   ]
  },
  {
   "cell_type": "code",
   "execution_count": null,
   "id": "de04da63-0258-4d4c-95a2-35e78bc6450d",
   "metadata": {},
   "outputs": [],
   "source": [
    "# Croiser avec les variables socio-démographiques\n",
    "import seaborn as sns\n",
    "import matplotlib.pyplot as plt\n",
    "\n",
    "# Visualiser la distribution des sentiments par groupe d'âge\n",
    "sns.boxplot(x='Age', y='Sentiment_Q1.1', data=df)\n",
    "plt.title('Distribution des sentiments par âge (Q1.1)')\n",
    "plt.show()"
   ]
  },
  {
   "cell_type": "code",
   "execution_count": null,
   "id": "4c949cdc-03cc-471a-a463-927bfc83a089",
   "metadata": {},
   "outputs": [],
   "source": [
    "# Analyse variable par variable et visualisation\n",
    "# Nettoyage pour Q1.2\n",
    "df['Q1.2_clean'] = df['Q1.2'].apply(lambda x: nettoyer_texte(str(x)))\n",
    "\n",
    "# Analyse de sentiment pour Q1.2\n",
    "df['Sentiment_Q1.2'] = df['Q1.2_clean'].apply(lambda x: analyse_sentiment(x))\n",
    "\n",
    "# Visualisation des sentiments par sexe pour Q1.2\n",
    "sns.boxplot(x='Sexe', y='Sentiment_Q1.2', data=df)\n",
    "plt.title('Distribution des sentiments par sexe (Q1.2)')\n",
    "plt.show()"
   ]
  },
  {
   "cell_type": "code",
   "execution_count": null,
   "id": "cb35e77b-55e6-4cf8-8066-2613986cf993",
   "metadata": {},
   "outputs": [],
   "source": [
    "# Visualisation des résultats (graphique de sentiments) \n",
    "# Histogramme des sentiments pour une question\n",
    "plt.hist(df['Sentiment_Q1.1'], bins=20, color='blue', edgecolor='black')\n",
    "plt.title('Distribution des sentiments pour Q1.1')\n",
    "plt.xlabel('Sentiment')\n",
    "plt.ylabel('Fréquence')\n",
    "plt.show()"
   ]
  },
  {
   "cell_type": "code",
   "execution_count": null,
   "id": "37a0cd9f-cec2-4b18-8e68-9b38e2cd2756",
   "metadata": {},
   "outputs": [],
   "source": []
  },
  {
   "cell_type": "code",
   "execution_count": null,
   "id": "c955e2b2-d6f5-4abf-b01b-9fc977a6e494",
   "metadata": {},
   "outputs": [],
   "source": []
  }
 ],
 "metadata": {
  "kernelspec": {
   "display_name": "Python 3 (ipykernel)",
   "language": "python",
   "name": "python3"
  },
  "language_info": {
   "codemirror_mode": {
    "name": "ipython",
    "version": 3
   },
   "file_extension": ".py",
   "mimetype": "text/x-python",
   "name": "python",
   "nbconvert_exporter": "python",
   "pygments_lexer": "ipython3",
   "version": "3.12.4"
  }
 },
 "nbformat": 4,
 "nbformat_minor": 5
}
